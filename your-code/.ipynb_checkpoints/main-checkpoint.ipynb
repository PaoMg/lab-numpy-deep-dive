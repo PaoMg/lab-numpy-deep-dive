{
 "cells": [
  {
   "cell_type": "code",
   "execution_count": 1,
   "metadata": {},
   "outputs": [],
   "source": [
    "#1. Import the NUMPY package under the name np.\n",
    "import numpy as np"
   ]
  },
  {
   "cell_type": "code",
   "execution_count": 2,
   "metadata": {},
   "outputs": [
    {
     "name": "stdout",
     "output_type": "stream",
     "text": [
      "1.19.1\n",
      "blas_mkl_info:\n",
      "  NOT AVAILABLE\n",
      "blis_info:\n",
      "  NOT AVAILABLE\n",
      "openblas_info:\n",
      "    libraries = ['openblas', 'openblas']\n",
      "    library_dirs = ['/usr/local/lib']\n",
      "    language = c\n",
      "    define_macros = [('HAVE_CBLAS', None)]\n",
      "blas_opt_info:\n",
      "    libraries = ['openblas', 'openblas']\n",
      "    library_dirs = ['/usr/local/lib']\n",
      "    language = c\n",
      "    define_macros = [('HAVE_CBLAS', None)]\n",
      "lapack_mkl_info:\n",
      "  NOT AVAILABLE\n",
      "openblas_lapack_info:\n",
      "    libraries = ['openblas', 'openblas']\n",
      "    library_dirs = ['/usr/local/lib']\n",
      "    language = c\n",
      "    define_macros = [('HAVE_CBLAS', None)]\n",
      "lapack_opt_info:\n",
      "    libraries = ['openblas', 'openblas']\n",
      "    library_dirs = ['/usr/local/lib']\n",
      "    language = c\n",
      "    define_macros = [('HAVE_CBLAS', None)]\n",
      "None\n"
     ]
    }
   ],
   "source": [
    "#2. Print the NUMPY version and the configuration.\n",
    "print(np.__version__)\n",
    "print(np.show_config())\n"
   ]
  },
  {
   "cell_type": "code",
   "execution_count": 6,
   "metadata": {},
   "outputs": [
    {
     "name": "stdout",
     "output_type": "stream",
     "text": [
      "[[[0.14161889 0.64505118 0.93655758 0.21820857 0.54462652]\n",
      "  [0.48989483 0.4335561  0.83721593 0.40074511 0.56148303]\n",
      "  [0.0597904  0.50061825 0.96105343 0.2883961  0.37113841]]\n",
      "\n",
      " [[0.7812653  0.48552879 0.92259841 0.03833104 0.00958018]\n",
      "  [0.19510811 0.46850951 0.94490327 0.6878527  0.53243783]\n",
      "  [0.7561952  0.7507406  0.53040477 0.99054232 0.65690662]]]\n"
     ]
    }
   ],
   "source": [
    "#3. Generate a 2x3x5 3-dimensional array with random values. Assign the array to variable \"a\"\n",
    "# Challenge: there are at least three easy ways that use numpy to generate random arrays. How many ways can you find?\n",
    "a = np.random.random((2,3,5))\n",
    "\n",
    "#4. Print a.\n",
    "print(a)"
   ]
  },
  {
   "cell_type": "code",
   "execution_count": 7,
   "metadata": {},
   "outputs": [
    {
     "name": "stdout",
     "output_type": "stream",
     "text": [
      "[[[1. 1. 1.]\n",
      "  [1. 1. 1.]]\n",
      "\n",
      " [[1. 1. 1.]\n",
      "  [1. 1. 1.]]\n",
      "\n",
      " [[1. 1. 1.]\n",
      "  [1. 1. 1.]]\n",
      "\n",
      " [[1. 1. 1.]\n",
      "  [1. 1. 1.]]\n",
      "\n",
      " [[1. 1. 1.]\n",
      "  [1. 1. 1.]]]\n"
     ]
    }
   ],
   "source": [
    "#5. Create a 5x2x3 3-dimensional array with all values equaling 1.\n",
    "#Assign the array to variable \"b\"\n",
    "b = np.ones((5,2,3))\n",
    "\n",
    "#6. Print b.\n",
    "print(b)\n"
   ]
  },
  {
   "cell_type": "code",
   "execution_count": 9,
   "metadata": {},
   "outputs": [
    {
     "name": "stdout",
     "output_type": "stream",
     "text": [
      "30\n",
      "30\n",
      "True\n"
     ]
    }
   ],
   "source": [
    "#7. Do a and b have the same size? How do you prove that in Python code?\n",
    "print(a.size)\n",
    "print(b.size)\n",
    "if a.size == b.size:\n",
    "    print(True)\n",
    "else:\n",
    "    print(False)"
   ]
  },
  {
   "cell_type": "code",
   "execution_count": 10,
   "metadata": {},
   "outputs": [
    {
     "ename": "ValueError",
     "evalue": "operands could not be broadcast together with shapes (2,3,5) (5,2,3) ",
     "output_type": "error",
     "traceback": [
      "\u001b[0;31m---------------------------------------------------------------------------\u001b[0m",
      "\u001b[0;31mValueError\u001b[0m                                Traceback (most recent call last)",
      "\u001b[0;32m<ipython-input-10-30a0acd74455>\u001b[0m in \u001b[0;36m<module>\u001b[0;34m\u001b[0m\n\u001b[1;32m      1\u001b[0m \u001b[0;31m#8. Are you able to add a and b? Why or why not?\u001b[0m\u001b[0;34m\u001b[0m\u001b[0;34m\u001b[0m\u001b[0;34m\u001b[0m\u001b[0m\n\u001b[0;32m----> 2\u001b[0;31m \u001b[0mprint\u001b[0m\u001b[0;34m(\u001b[0m\u001b[0ma\u001b[0m\u001b[0;34m+\u001b[0m\u001b[0mb\u001b[0m\u001b[0;34m)\u001b[0m\u001b[0;34m\u001b[0m\u001b[0;34m\u001b[0m\u001b[0m\n\u001b[0m",
      "\u001b[0;31mValueError\u001b[0m: operands could not be broadcast together with shapes (2,3,5) (5,2,3) "
     ]
    }
   ],
   "source": [
    "#8. Are you able to add a and b? Why or why not?\n",
    "print(a+b)\n",
    "#el error nos dice que no se puede sumar matrices de diferentes tamaños"
   ]
  },
  {
   "cell_type": "code",
   "execution_count": 15,
   "metadata": {},
   "outputs": [
    {
     "name": "stdout",
     "output_type": "stream",
     "text": [
      "[[[1. 1. 1. 1. 1.]\n",
      "  [1. 1. 1. 1. 1.]\n",
      "  [1. 1. 1. 1. 1.]]\n",
      "\n",
      " [[1. 1. 1. 1. 1.]\n",
      "  [1. 1. 1. 1. 1.]\n",
      "  [1. 1. 1. 1. 1.]]]\n"
     ]
    }
   ],
   "source": [
    "#9. Transpose b so that it has the same structure of a (i.e. become a 2x3x5 array). Assign the transposed array to varialbe \"c\".\n",
    "c = np.transpose(b, (1,2,0))\n",
    "print(c)\n",
    "\n"
   ]
  },
  {
   "cell_type": "code",
   "execution_count": 18,
   "metadata": {},
   "outputs": [
    {
     "name": "stdout",
     "output_type": "stream",
     "text": [
      "[[[1.14161889 1.64505118 1.93655758 1.21820857 1.54462652]\n",
      "  [1.48989483 1.4335561  1.83721593 1.40074511 1.56148303]\n",
      "  [1.0597904  1.50061825 1.96105343 1.2883961  1.37113841]]\n",
      "\n",
      " [[1.7812653  1.48552879 1.92259841 1.03833104 1.00958018]\n",
      "  [1.19510811 1.46850951 1.94490327 1.6878527  1.53243783]\n",
      "  [1.7561952  1.7507406  1.53040477 1.99054232 1.65690662]]]\n"
     ]
    }
   ],
   "source": [
    "#10. Try to add a and c. Now it should work. Assign the sum to varialbe \"d\". But why does it work now?\n",
    "d = np.add(a,c)\n",
    "print(d)"
   ]
  },
  {
   "cell_type": "code",
   "execution_count": 21,
   "metadata": {},
   "outputs": [
    {
     "name": "stdout",
     "output_type": "stream",
     "text": [
      "[[[0.14161889 0.64505118 0.93655758 0.21820857 0.54462652]\n",
      "  [0.48989483 0.4335561  0.83721593 0.40074511 0.56148303]\n",
      "  [0.0597904  0.50061825 0.96105343 0.2883961  0.37113841]]\n",
      "\n",
      " [[0.7812653  0.48552879 0.92259841 0.03833104 0.00958018]\n",
      "  [0.19510811 0.46850951 0.94490327 0.6878527  0.53243783]\n",
      "  [0.7561952  0.7507406  0.53040477 0.99054232 0.65690662]]]\n",
      "[[[1.14161889 1.64505118 1.93655758 1.21820857 1.54462652]\n",
      "  [1.48989483 1.4335561  1.83721593 1.40074511 1.56148303]\n",
      "  [1.0597904  1.50061825 1.96105343 1.2883961  1.37113841]]\n",
      "\n",
      " [[1.7812653  1.48552879 1.92259841 1.03833104 1.00958018]\n",
      "  [1.19510811 1.46850951 1.94490327 1.6878527  1.53243783]\n",
      "  [1.7561952  1.7507406  1.53040477 1.99054232 1.65690662]]]\n"
     ]
    }
   ],
   "source": [
    "#11. Print a and d. Notice the difference and relation of the two array in terms of the values? Explain.\n",
    "print (a)\n",
    "print (d)\n",
    " #los valores de d son igual a cada valor de a + 1. Los dos array estan relacionados porque el d = a+1\n"
   ]
  },
  {
   "cell_type": "code",
   "execution_count": 23,
   "metadata": {},
   "outputs": [
    {
     "name": "stdout",
     "output_type": "stream",
     "text": [
      "[[[0.14161889 0.64505118 0.93655758 0.21820857 0.54462652]\n",
      "  [0.48989483 0.4335561  0.83721593 0.40074511 0.56148303]\n",
      "  [0.0597904  0.50061825 0.96105343 0.2883961  0.37113841]]\n",
      "\n",
      " [[0.7812653  0.48552879 0.92259841 0.03833104 0.00958018]\n",
      "  [0.19510811 0.46850951 0.94490327 0.6878527  0.53243783]\n",
      "  [0.7561952  0.7507406  0.53040477 0.99054232 0.65690662]]]\n"
     ]
    }
   ],
   "source": [
    "#12. Multiply a and c. Assign the result to e.\n",
    "\n",
    "e = np.multiply(a,c)\n",
    "print(e)"
   ]
  },
  {
   "cell_type": "code",
   "execution_count": 27,
   "metadata": {},
   "outputs": [
    {
     "name": "stdout",
     "output_type": "stream",
     "text": [
      "[[[0.14161889 0.64505118 0.93655758 0.21820857 0.54462652]\n",
      "  [0.48989483 0.4335561  0.83721593 0.40074511 0.56148303]\n",
      "  [0.0597904  0.50061825 0.96105343 0.2883961  0.37113841]]\n",
      "\n",
      " [[0.7812653  0.48552879 0.92259841 0.03833104 0.00958018]\n",
      "  [0.19510811 0.46850951 0.94490327 0.6878527  0.53243783]\n",
      "  [0.7561952  0.7507406  0.53040477 0.99054232 0.65690662]]]\n",
      "[[[0.14161889 0.64505118 0.93655758 0.21820857 0.54462652]\n",
      "  [0.48989483 0.4335561  0.83721593 0.40074511 0.56148303]\n",
      "  [0.0597904  0.50061825 0.96105343 0.2883961  0.37113841]]\n",
      "\n",
      " [[0.7812653  0.48552879 0.92259841 0.03833104 0.00958018]\n",
      "  [0.19510811 0.46850951 0.94490327 0.6878527  0.53243783]\n",
      "  [0.7561952  0.7507406  0.53040477 0.99054232 0.65690662]]]\n",
      "True\n"
     ]
    }
   ],
   "source": [
    "#13. Does e equal to a? Why or why not?\n",
    "print(e)\n",
    "print(a)\n",
    "\n",
    "if a.all() == e.all():\n",
    "    print(True)\n",
    "else:\n",
    "    print(False)"
   ]
  },
  {
   "cell_type": "code",
   "execution_count": 28,
   "metadata": {},
   "outputs": [
    {
     "name": "stdout",
     "output_type": "stream",
     "text": [
      "max 1.9905423201606243\n",
      "min 1.0095801834935285\n",
      "mean 1.538028633398542\n"
     ]
    }
   ],
   "source": [
    "#14. Identify the max, min, and mean values in d. Assign those values to variables \"d_max\", \"d_min\", and \"d_mean\"\n",
    "d_max = np.max(d)\n",
    "print('max', d_max)\n",
    "d_min = np.min(d)\n",
    "print('min', d_min)\n",
    "d_mean = np.mean(d)\n",
    "print('mean', d_mean)\n"
   ]
  },
  {
   "cell_type": "code",
   "execution_count": 30,
   "metadata": {},
   "outputs": [
    {
     "name": "stdout",
     "output_type": "stream",
     "text": [
      "[[[0.14161889 0.64505118 0.93655758 0.21820857 0.54462652]\n",
      "  [0.48989483 0.4335561  0.83721593 0.40074511 0.56148303]\n",
      "  [0.0597904  0.50061825 0.96105343 0.2883961  0.37113841]]\n",
      "\n",
      " [[0.7812653  0.48552879 0.92259841 0.03833104 0.00958018]\n",
      "  [0.19510811 0.46850951 0.94490327 0.6878527  0.53243783]\n",
      "  [0.7561952  0.7507406  0.53040477 0.99054232 0.65690662]]]\n"
     ]
    }
   ],
   "source": [
    "#15. Now we want to label the values in d. First create an empty array \"f\" with the same shape (i.e. 2x3x5) as d using `np.empty`.\n",
    "f = np.empty([2, 3, 5])\n",
    "print(f)\n",
    "\n"
   ]
  },
  {
   "cell_type": "code",
   "execution_count": 38,
   "metadata": {},
   "outputs": [
    {
     "name": "stdout",
     "output_type": "stream",
     "text": [
      "[[[1.14161889 1.64505118 1.93655758 1.21820857 1.54462652]\n",
      "  [1.48989483 1.4335561  1.83721593 1.40074511 1.56148303]\n",
      "  [1.0597904  1.50061825 1.96105343 1.2883961  1.37113841]]\n",
      "\n",
      " [[1.7812653  1.48552879 1.92259841 1.03833104 1.00958018]\n",
      "  [1.19510811 1.46850951 1.94490327 1.6878527  1.53243783]\n",
      "  [1.7561952  1.7507406  1.53040477 1.99054232 1.65690662]]]\n",
      "\n",
      "\n",
      "[[[ 25.  75.  75.  25.  75.]\n",
      "  [ 25.  25.  75.  25.  75.]\n",
      "  [ 25.  25.  75.  25.  25.]]\n",
      "\n",
      " [[ 75.  25.  75.  25.   0.]\n",
      "  [ 25.  25.  75.  75.  25.]\n",
      "  [ 75.  75.  25. 100.  75.]]]\n"
     ]
    }
   ],
   "source": [
    "#16. Populate the values in f. For each value in d, if it's larger than d_min but smaller than d_mean, assign 25 to the corresponding value in f.\n",
    "#If a value in d is larger than d_mean but smaller than d_max, assign 75 to the corresponding value in f.\n",
    "#If a value equals to d_mean, assign 50 to the corresponding value in f.\n",
    "#Assign 0 to the corresponding value(s) in f for d_min in d.\n",
    "#Assign 100 to the corresponding value(s) in f for d_max in d.\n",
    "#In the end, f should have only the following values: 0, 25, 50, 75, and 100.\n",
    "#Note: you don't have to use Numpy in this question.\n",
    "\n",
    "for i in range(2):\n",
    "     for j in range(3):\n",
    "            for k in range(5):\n",
    "                if d_min<d[i,j,k]<d_mean:\n",
    "                    f[i,j,k]=25\n",
    "             \n",
    "                elif d_mean<d[i,j,k]<d_max:\n",
    "                    f[i,j,k]=75\n",
    "             \n",
    "                elif d[i,j,k]==d_mean:\n",
    "                    f[i,j,k]=50\n",
    "             \n",
    "                elif d[i,j,k]==d_min:\n",
    "                    f[i,j,k]=0\n",
    "             \n",
    "                else:\n",
    "                    f[i,j,k]=100\n",
    "\n",
    "#17. print d and f                    \n",
    "print(d)\n",
    "print('\\n')\n",
    "print(f)\n",
    "\n"
   ]
  },
  {
   "cell_type": "code",
   "execution_count": 44,
   "metadata": {},
   "outputs": [],
   "source": [
    "#18. Bonus question: instead of using numbers (i.e. 0, 25, 50, 75, and 100), how to use string values \n",
    "#(\"A\", \"B\", \"C\", \"D\", and \"E\") to label the array elements?"
   ]
  },
  {
   "cell_type": "code",
   "execution_count": 45,
   "metadata": {},
   "outputs": [
    {
     "name": "stdout",
     "output_type": "stream",
     "text": [
      "[[[1.14161889 1.64505118 1.93655758 1.21820857 1.54462652]\n",
      "  [1.48989483 1.4335561  1.83721593 1.40074511 1.56148303]\n",
      "  [1.0597904  1.50061825 1.96105343 1.2883961  1.37113841]]\n",
      "\n",
      " [[1.7812653  1.48552879 1.92259841 1.03833104 1.00958018]\n",
      "  [1.19510811 1.46850951 1.94490327 1.6878527  1.53243783]\n",
      "  [1.7561952  1.7507406  1.53040477 1.99054232 1.65690662]]]\n",
      "\n",
      "\n",
      "[[['B' 'D' 'D' 'B' 'D']\n",
      "  ['B' 'B' 'D' 'B' 'D']\n",
      "  ['B' 'B' 'D' 'B' 'B']]\n",
      "\n",
      " [['D' 'B' 'D' 'B' 'A']\n",
      "  ['B' 'B' 'D' 'D' 'B']\n",
      "  ['D' 'D' 'B' 'E' 'D']]]\n"
     ]
    }
   ],
   "source": [
    "g = np.empty([2, 3, 5],dtype='str')\n",
    "\n",
    "for i in range(2):\n",
    "     for j in range(3):\n",
    "            for k in range(5):\n",
    "                if d_min<d[i,j,k]<d_mean:\n",
    "                    g[i,j,k]='B'\n",
    "             \n",
    "                elif d_mean<d[i,j,k]<d_max:\n",
    "                    g[i,j,k]='D'\n",
    "             \n",
    "                elif d[i,j,k]==d_mean:\n",
    "                    g[i,j,k]='C'\n",
    "             \n",
    "                elif d[i,j,k]==d_min:\n",
    "                    g[i,j,k]='A'\n",
    "             \n",
    "                else:\n",
    "                    g[i,j,k]='E'\n",
    "\n",
    "#17. print d and f                    \n",
    "print(d)\n",
    "print('\\n')\n",
    "print(g)\n",
    "\n",
    "\n"
   ]
  },
  {
   "cell_type": "code",
   "execution_count": null,
   "metadata": {},
   "outputs": [],
   "source": []
  }
 ],
 "metadata": {
  "kernelspec": {
   "display_name": "Python 3",
   "language": "python",
   "name": "python3"
  },
  "language_info": {
   "codemirror_mode": {
    "name": "ipython",
    "version": 3
   },
   "file_extension": ".py",
   "mimetype": "text/x-python",
   "name": "python",
   "nbconvert_exporter": "python",
   "pygments_lexer": "ipython3",
   "version": "3.8.3"
  }
 },
 "nbformat": 4,
 "nbformat_minor": 4
}
